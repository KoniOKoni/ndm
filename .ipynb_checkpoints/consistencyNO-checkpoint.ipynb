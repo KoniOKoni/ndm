{
 "cells": [
  {
   "cell_type": "code",
   "execution_count": 5,
   "id": "c827604c-294c-4b51-ab37-fc002d533e08",
   "metadata": {},
   "outputs": [],
   "source": [
    "import numpy as np\n",
    "import matplotlib.pyplot as plt\n",
    "\n",
    "m21 = 8.66e-3\n",
    "m31 = 5.05e-2"
   ]
  },
  {
   "cell_type": "code",
   "execution_count": null,
   "id": "4044c28f-dffe-42e6-bf75-b829d74b32bb",
   "metadata": {},
   "outputs": [],
   "source": [
    "def trigconservion(a):\n",
    "    return np.sqrt(1 - np.power(a, 2))\n",
    "\n",
    "def m2(m):\n",
    "    return np.sqrt(m21 + np.power(m, 2))\n",
    "\n",
    "def m3(m):\n",
    "    return np.sqrt(m31 + np.power(m, 2))\n",
    "\n",
    "\n",
    "def mee(mlight, s12, s13):\n",
    "    return np.power(trigconservion(s13), 2) * (np.power(trigconservion(s12), 2)*mlight + np.sqrt(m2 + np.power(mlight, 2)) * np.power(s12, 2)) + np.sqrt(m3 + np.power(mlight, 2)) * np.power(s13, 2)\n",
    "\n",
    "def mmumu(mlight, s12, s13):\n",
    "    return trigconservion(s13)"
   ]
  }
 ],
 "metadata": {
  "kernelspec": {
   "display_name": "Python [conda env:base] *",
   "language": "python",
   "name": "conda-base-py"
  },
  "language_info": {
   "codemirror_mode": {
    "name": "ipython",
    "version": 3
   },
   "file_extension": ".py",
   "mimetype": "text/x-python",
   "name": "python",
   "nbconvert_exporter": "python",
   "pygments_lexer": "ipython3",
   "version": "3.11.7"
  }
 },
 "nbformat": 4,
 "nbformat_minor": 5
}
