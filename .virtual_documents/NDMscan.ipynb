import numpy as np
import matplotlib.pyplot as plt


Lambda = 1e25


def g(g0, k, v):
    return 2*np.sqrt(2)*np.pi/np.sqrt((8*np.pi**2 - g0**2 * k * np.log(Lambda) + g0**2 * k * np.log(v))/(g0**2))

def M(g0, k, ve, vmu, vtau):
    ge = g(g0, k, ve)
    gmu = g(g0, k, vmu)
    gtau = g(g0, k, vtau)
    return np.array([[np.exp(-8*np.pi**2/(ge**2))*ye, 0, 0],
                     [0, np.exp(-8*np.pi**2/(gmu**2))*ymu, 0],
                     [0,0,np.exp(-8*np.pi**2/(gtau**2))*ytau]])

def I(g0, k, ve, vmu, vtau):
    ge = g(g0, k, ve)
    gmu = g(g0, k, vmu)
    gtau = g(g0, k, vtau)
    inste = np.exp(-8*np.pi**2/(ge**2))
    instmu = np.exp(-8*np.pi**2/(gmu**2))
    insttau = np.exp(-8*np.pi**2/(gtau**2))
    remu = ve/vmu
    retau = ve/vtau
    rmutau = vmu/vtau
    return 0.1*np.array([[inste*ye, inste*ye/remu, inste*ye/retau],
                         [instmu*ymu*remu, instmu*ymu, instmu*ymu/rmutau],
                         [insttau*ytau*retau, insttau*ytau*rmutau, insttau*ytau]])
    
    


U = np.array([[(.803+.845)/2, (.514+.578)/2, (.142+.155)/2],
              [(.233+.505)/2, (.460+.693)/2, (.630+.779)/2],
              [(.262+.525)/2, (.473+.702)/2, (.610+.762)/2]])

ye = 0.51099895000*1e6*np.sqrt(2)/(250*1e9)
ymu = 105.6583755*1e6*np.sqrt(2)/(250*1e9)
ytau = 1776.93*1e6*np.sqrt(2)/(250*1e9)


g0_table = np.linspace(0.1, 1, 50)
ve_table = np.logspace(12, 24, 50)
vmu_table = np.logspace(12, 24, 50)
vtau_table = np.logspace(12, 24, 50)


res = []

for g0 in g0_table:
    for ve in ve_table:
        for vmu in vmu_table:
            for vtau in vtau_table:
                if not (ve > vmu and vmu > vtau):
                    continue
                Y = (M(g0, 31/6, ve, vmu, vtau) + I(g0, 31/6, ve, vmu, vtau))@U
                m1 = (250*1e9/np.sqrt(2))*(Y[0][0])
                m2 = (250*1e9/np.sqrt(2))*(Y[1][1])
                m3 = (250*1e9/np.sqrt(2))*(Y[2][2])
                m21sq = (m2**2 - m1**2)*1e5
                m31sq = abs((m3**2 - m1**2))*1e3
                if (m21sq >= 7.5-0.2 and m21sq <= 7.5+0.22) and (m31sq >= 2.55-0.03 and m31sq <= 2.55 + 0.02):
                    print(g0)
                    res.append([g0, ve, vmu, vtau])
                


res = np.array(res)


plt.scatter(res[:,1], res[:,2])
plt.xlabel(r'$v_e$')
plt.ylabel(r'$v_{\mu}$')
plt.xscale('log')
plt.yscale('log')


plt.scatter(res[:,1], res[:,3])
plt.xlabel(r'$v_e$')
plt.ylabel(r'$v_{\tau}$')
plt.xscale('log')
plt.yscale('log')


plt.scatter(res[:,2], res[:,3])
plt.xlabel(r'$v_{\mu}$')
plt.ylabel(r'$v_{\tau}$')
plt.xscale('log')
plt.yscale('log')


g(0.01, 31/6, 1e13)


M(0.7, 31/6, 1e22, 1e16, 1e13)


res


np.exp(-8*np.pi**2/(g(1, 31/6, 1e22)**2))


-8*np.pi**2/(g(1, 31/6, 1e22)**2)


ytau



