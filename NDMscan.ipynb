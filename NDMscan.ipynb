{
 "cells": [
  {
   "cell_type": "code",
   "execution_count": 5,
   "id": "88f1b159-b007-4741-9845-c651dcc94576",
   "metadata": {},
   "outputs": [],
   "source": [
    "import numpy as np\n",
    "from numpy import sin, cos, exp, pi, log\n",
    "import matplotlib.pyplot as plt\n",
    "import emcee"
   ]
  },
  {
   "cell_type": "code",
   "execution_count": 1,
   "id": "816305e7-53c6-4a3c-8595-54d153158445",
   "metadata": {},
   "outputs": [],
   "source": [
    "mu0 = 1e25"
   ]
  },
  {
   "cell_type": "code",
   "execution_count": 4,
   "id": "935f484b-132f-4a8b-9b43-74d19528b187",
   "metadata": {},
   "outputs": [],
   "source": [
    "def g(g0, k, v):\n",
    "    return (g0**(-2) + (k/(8*pi**2))*log(v/mu0))**(-1/2)\n",
    "\n",
    "def M(g0, k, ve, vmu, vtau):\n",
    "    ge = g(g0, k, ve)\n",
    "    gmu = g(g0, k, vmu)\n",
    "    gtau = g(g0, k, vtau)\n",
    "    return np.array([[np.exp(-8*np.pi**2/(ge**2))*ye, 0, 0],\n",
    "                     [0, np.exp(-8*np.pi**2/(gmu**2))*ymu, 0],\n",
    "                     [0,0,np.exp(-8*np.pi**2/(gtau**2))*ytau]])\n",
    "\n",
    "def I(g0, k, ve, vmu, vtau):\n",
    "    ge = g(g0, k, ve)\n",
    "    gmu = g(g0, k, vmu)\n",
    "    gtau = g(g0, k, vtau)\n",
    "    inste = np.exp(-8*np.pi**2/(ge**2))\n",
    "    instmu = np.exp(-8*np.pi**2/(gmu**2))\n",
    "    insttau = np.exp(-8*np.pi**2/(gtau**2))\n",
    "    remu = ve/vmu\n",
    "    retau = ve/vtau\n",
    "    rmutau = vmu/vtau\n",
    "    return 0.1*np.array([[inste*ye, inste*ye/remu, inste*ye/retau],\n",
    "                         [instmu*ymu*remu, instmu*ymu, instmu*ymu/rmutau],\n",
    "                         [insttau*ytau*retau, insttau*ytau*rmutau, insttau*ytau]])\n",
    "    \n",
    "    "
   ]
  },
  {
   "cell_type": "code",
   "execution_count": 19,
   "id": "999b3448-15c2-40b6-9e64-f867d35f4ebc",
   "metadata": {},
   "outputs": [],
   "source": [
    "U = np.array([[(.803+.845)/2, (.514+.578)/2, (.142+.155)/2],\n",
    "              [(.233+.505)/2, (.460+.693)/2, (.630+.779)/2],\n",
    "              [(.262+.525)/2, (.473+.702)/2, (.610+.762)/2]])\n",
    "\n",
    "ye = 0.51099895000*1e6*np.sqrt(2)/(250*1e9)\n",
    "ymu = 105.6583755*1e6*np.sqrt(2)/(250*1e9)\n",
    "ytau = 1776.93*1e6*np.sqrt(2)/(250*1e9)"
   ]
  },
  {
   "cell_type": "code",
   "execution_count": 96,
   "id": "4f8365e9-5fd4-4b63-9b74-89a5564f1cf2",
   "metadata": {},
   "outputs": [],
   "source": [
    "g0_table = np.linspace(0.1, 1, 50)\n",
    "ve_table = np.logspace(12, 24, 50)\n",
    "vmu_table = np.logspace(12, 24, 50)\n",
    "vtau_table = np.logspace(12, 24, 50)"
   ]
  },
  {
   "cell_type": "code",
   "execution_count": 97,
   "id": "f33f9da7-f6b0-46ca-ad9d-114f3a930c53",
   "metadata": {},
   "outputs": [
    {
     "name": "stderr",
     "output_type": "stream",
     "text": [
      "/var/folders/hb/f8g3yv1s0xgcyvrf_6rd_qnc0000gn/T/ipykernel_82766/1321355194.py:2: RuntimeWarning: invalid value encountered in sqrt\n",
      "  return 2*np.sqrt(2)*np.pi/np.sqrt((8*np.pi**2 - g0**2 * k * np.log(Lambda) + g0**2 * k * np.log(v))/(g0**2))\n"
     ]
    }
   ],
   "source": [
    "res = []\n",
    "\n",
    "for g0 in g0_table:\n",
    "    for ve in ve_table:\n",
    "        for vmu in vmu_table:\n",
    "            for vtau in vtau_table:\n",
    "                if not (ve > vmu and vmu > vtau):\n",
    "                    continue\n",
    "                Y = (M(g0, 31/6, ve, vmu, vtau) + I(g0, 31/6, ve, vmu, vtau))@U\n",
    "                m1 = (250*1e9/np.sqrt(2))*(Y[0][0])\n",
    "                m2 = (250*1e9/np.sqrt(2))*(Y[1][1])\n",
    "                m3 = (250*1e9/np.sqrt(2))*(Y[2][2])\n",
    "                m21sq = (m2**2 - m1**2)*1e5\n",
    "                m31sq = abs((m3**2 - m1**2))*1e3\n",
    "                if (m21sq >= 7.5-0.2 and m21sq <= 7.5+0.22) and (m31sq >= 2.55-0.03 and m31sq <= 2.55 + 0.02):\n",
    "                    print(g0)\n",
    "                    res.append([g0, ve, vmu, vtau])\n",
    "                "
   ]
  },
  {
   "cell_type": "code",
   "execution_count": 99,
   "id": "ba2d018b-8609-4e5f-9ffe-0a01f8faea0f",
   "metadata": {},
   "outputs": [],
   "source": [
    "res = np.array(res)"
   ]
  },
  {
   "cell_type": "code",
   "execution_count": 100,
   "id": "b66380a9-72e7-466a-8f47-bedc30a2679e",
   "metadata": {},
   "outputs": [
    {
     "ename": "IndexError",
     "evalue": "too many indices for array: array is 1-dimensional, but 2 were indexed",
     "output_type": "error",
     "traceback": [
      "\u001b[0;31m---------------------------------------------------------------------------\u001b[0m",
      "\u001b[0;31mIndexError\u001b[0m                                Traceback (most recent call last)",
      "Cell \u001b[0;32mIn[100], line 1\u001b[0m\n\u001b[0;32m----> 1\u001b[0m plt\u001b[38;5;241m.\u001b[39mscatter(\u001b[43mres\u001b[49m\u001b[43m[\u001b[49m\u001b[43m:\u001b[49m\u001b[43m,\u001b[49m\u001b[38;5;241;43m1\u001b[39;49m\u001b[43m]\u001b[49m, res[:,\u001b[38;5;241m2\u001b[39m])\n\u001b[1;32m      2\u001b[0m plt\u001b[38;5;241m.\u001b[39mxlabel(\u001b[38;5;124mr\u001b[39m\u001b[38;5;124m'\u001b[39m\u001b[38;5;124m$v_e$\u001b[39m\u001b[38;5;124m'\u001b[39m)\n\u001b[1;32m      3\u001b[0m plt\u001b[38;5;241m.\u001b[39mylabel(\u001b[38;5;124mr\u001b[39m\u001b[38;5;124m'\u001b[39m\u001b[38;5;124m$v_\u001b[39m\u001b[38;5;124m{\u001b[39m\u001b[38;5;124m\\\u001b[39m\u001b[38;5;124mmu}$\u001b[39m\u001b[38;5;124m'\u001b[39m)\n",
      "\u001b[0;31mIndexError\u001b[0m: too many indices for array: array is 1-dimensional, but 2 were indexed"
     ]
    }
   ],
   "source": [
    "plt.scatter(res[:,1], res[:,2])\n",
    "plt.xlabel(r'$v_e$')\n",
    "plt.ylabel(r'$v_{\\mu}$')\n",
    "plt.xscale('log')\n",
    "plt.yscale('log')"
   ]
  },
  {
   "cell_type": "code",
   "execution_count": null,
   "id": "8eaf77fa-eb95-4291-bd62-7d2bbca88478",
   "metadata": {},
   "outputs": [],
   "source": [
    "plt.scatter(res[:,1], res[:,3])\n",
    "plt.xlabel(r'$v_e$')\n",
    "plt.ylabel(r'$v_{\\tau}$')\n",
    "plt.xscale('log')\n",
    "plt.yscale('log')"
   ]
  },
  {
   "cell_type": "code",
   "execution_count": null,
   "id": "30673241-23e7-4231-b70b-ac35f511d2d5",
   "metadata": {},
   "outputs": [],
   "source": [
    "plt.scatter(res[:,2], res[:,3])\n",
    "plt.xlabel(r'$v_{\\mu}$')\n",
    "plt.ylabel(r'$v_{\\tau}$')\n",
    "plt.xscale('log')\n",
    "plt.yscale('log')"
   ]
  },
  {
   "cell_type": "code",
   "execution_count": 77,
   "id": "37b8a6a0-8e97-4abd-a628-b8c15f2897fa",
   "metadata": {},
   "outputs": [
    {
     "data": {
      "text/plain": [
       "0.01000090416261908"
      ]
     },
     "execution_count": 77,
     "metadata": {},
     "output_type": "execute_result"
    }
   ],
   "source": [
    "g(0.01, 31/6, 1e13)"
   ]
  },
  {
   "cell_type": "code",
   "execution_count": 107,
   "id": "d44127c5-2f81-42eb-a28d-2fd30ba854c8",
   "metadata": {},
   "outputs": [
    {
     "data": {
      "text/plain": [
       "array([[9.55754485e-61, 0.00000000e+00, 0.00000000e+00],\n",
       "       [0.00000000e+00, 1.97619714e-27, 0.00000000e+00],\n",
       "       [0.00000000e+00, 0.00000000e+00, 1.05098534e-10]])"
      ]
     },
     "execution_count": 107,
     "metadata": {},
     "output_type": "execute_result"
    }
   ],
   "source": [
    "M(0.7, 31/6, 1e22, 1e16, 1e13)"
   ]
  },
  {
   "cell_type": "code",
   "execution_count": 101,
   "id": "9a80c5d7-3305-4fc9-9f70-450619a1ec66",
   "metadata": {},
   "outputs": [
    {
     "data": {
      "text/plain": [
       "array([], dtype=float64)"
      ]
     },
     "execution_count": 101,
     "metadata": {},
     "output_type": "execute_result"
    }
   ],
   "source": [
    "res"
   ]
  },
  {
   "cell_type": "code",
   "execution_count": 95,
   "id": "b69e1d53-f025-4e09-83d5-07418425ce0b",
   "metadata": {},
   "outputs": [
    {
     "data": {
      "text/plain": [
       "1.6198774521788022e-19"
      ]
     },
     "execution_count": 95,
     "metadata": {},
     "output_type": "execute_result"
    }
   ],
   "source": [
    "np.exp(-8*np.pi**2/(g(1, 31/6, 1e22)**2))"
   ]
  },
  {
   "cell_type": "code",
   "execution_count": 93,
   "id": "4f16629e-ba29-4976-8175-7e83a8eb2f7d",
   "metadata": {},
   "outputs": [
    {
     "data": {
      "text/plain": [
       "-43.26676626730715"
      ]
     },
     "execution_count": 93,
     "metadata": {},
     "output_type": "execute_result"
    }
   ],
   "source": [
    "-8*np.pi**2/(g(1, 31/6, 1e22)**2)"
   ]
  },
  {
   "cell_type": "code",
   "execution_count": 87,
   "id": "5ce03009-ea60-4e64-84c4-72bc45bd7f99",
   "metadata": {},
   "outputs": [
    {
     "data": {
      "text/plain": [
       "0.010051834021550495"
      ]
     },
     "execution_count": 87,
     "metadata": {},
     "output_type": "execute_result"
    }
   ],
   "source": [
    "ytau"
   ]
  },
  {
   "cell_type": "code",
   "execution_count": null,
   "id": "61f4f2bd-7e43-476b-a0b1-ea9625ef5da9",
   "metadata": {},
   "outputs": [],
   "source": []
  }
 ],
 "metadata": {
  "kernelspec": {
   "display_name": "Python 3 (ipykernel)",
   "language": "python",
   "name": "python3"
  },
  "language_info": {
   "codemirror_mode": {
    "name": "ipython",
    "version": 3
   },
   "file_extension": ".py",
   "mimetype": "text/x-python",
   "name": "python",
   "nbconvert_exporter": "python",
   "pygments_lexer": "ipython3",
   "version": "3.9.23"
  }
 },
 "nbformat": 4,
 "nbformat_minor": 5
}
